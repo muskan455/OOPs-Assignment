{
  "nbformat": 4,
  "nbformat_minor": 0,
  "metadata": {
    "colab": {
      "provenance": []
    },
    "kernelspec": {
      "name": "python3",
      "display_name": "Python 3"
    },
    "language_info": {
      "name": "python"
    }
  },
  "cells": [
    {
      "cell_type": "markdown",
      "source": [
        "# ***Assignment Theory Questions of OOPs***"
      ],
      "metadata": {
        "id": "gp_bN6JCJolt"
      }
    },
    {
      "cell_type": "markdown",
      "source": [
        "**Q.1  What is Object-Oriented Programming (OOP)?**\n",
        "\n",
        "ans = Object-oriented programmming language is a algorithm that used for give the code readibility and clearity by using classes and object for modular programming"
      ],
      "metadata": {
        "id": "una6tfp0Jwpk"
      }
    },
    {
      "cell_type": "code",
      "source": [
        "class Dog:\n",
        "    def bark(self):\n",
        "        print(\"Woof!\")"
      ],
      "metadata": {
        "id": "zrOgScRPKXSn"
      },
      "execution_count": 1,
      "outputs": []
    },
    {
      "cell_type": "code",
      "source": [
        "obj = Dog()\n",
        "obj.bark()"
      ],
      "metadata": {
        "colab": {
          "base_uri": "https://localhost:8080/"
        },
        "id": "qxVDZFKgKb9R",
        "outputId": "493c5384-c429-4bad-87a8-3dce22ee8889"
      },
      "execution_count": 4,
      "outputs": [
        {
          "output_type": "stream",
          "name": "stdout",
          "text": [
            "Woof!\n"
          ]
        }
      ]
    },
    {
      "cell_type": "markdown",
      "source": [
        "**Q.2  What is a class in OOPs?**\n",
        "\n",
        "ans = In OOPs class is a blueprint and class is broad entity.That produces Objects. It contains attributes and Methods"
      ],
      "metadata": {
        "id": "pBkW5C07KoHh"
      }
    },
    {
      "cell_type": "code",
      "source": [
        "class Car:\n",
        "    def __init__(self, color):\n",
        "        self.color = color"
      ],
      "metadata": {
        "id": "H7CPPxetLD05"
      },
      "execution_count": 6,
      "outputs": []
    },
    {
      "cell_type": "markdown",
      "source": [
        "**Q.3 What is an object in OOP**\n",
        "\n",
        "ans = Object is instance of the class . It uses to call the class by using class name through creating object"
      ],
      "metadata": {
        "id": "blAprODELeOd"
      }
    },
    {
      "cell_type": "code",
      "source": [
        "my_car = Car(\"red\")\n"
      ],
      "metadata": {
        "id": "iwLkM1d-LO6b"
      },
      "execution_count": 9,
      "outputs": []
    },
    {
      "cell_type": "markdown",
      "source": [
        "**Q.4 What is the difference between abstraction and encapsulation?**\n",
        "\n",
        "ans = Abstaction hides the method behind the working project . It shows only that is necessary for user\n",
        "\n",
        "Encapsulation binds the data and classes together . It wrap up the methods and class."
      ],
      "metadata": {
        "id": "sSWIhfUPL34e"
      }
    },
    {
      "cell_type": "code",
      "source": [
        "# Abstraction: Using `sort()` without knowing its algorithm.\n",
        "# Encapsulation: Private variable `__balance` in a BankAccount class."
      ],
      "metadata": {
        "id": "ZS0DvKCEMfPY"
      },
      "execution_count": null,
      "outputs": []
    },
    {
      "cell_type": "markdown",
      "source": [
        "**Q.5 What are dunder methods in Python ?**\n",
        "\n",
        "ans = It is called also magic method or special method. It create a class that is automatically called when we create a object"
      ],
      "metadata": {
        "id": "ZCS3Q_yiMqo5"
      }
    },
    {
      "cell_type": "code",
      "source": [
        "class Book:\n",
        "    def __str__(self):\n",
        "        return \"This is a book.\""
      ],
      "metadata": {
        "id": "s_AUwUk4NLKP"
      },
      "execution_count": 10,
      "outputs": []
    },
    {
      "cell_type": "code",
      "source": [
        "read_book = Book() # creating a object\n",
        "print(read_book)"
      ],
      "metadata": {
        "colab": {
          "base_uri": "https://localhost:8080/"
        },
        "id": "G84fJDZgNNjN",
        "outputId": "554ff49d-1048-4812-a5b4-40e6644f576f"
      },
      "execution_count": 14,
      "outputs": [
        {
          "output_type": "stream",
          "name": "stdout",
          "text": [
            "This is a book.\n"
          ]
        }
      ]
    },
    {
      "cell_type": "markdown",
      "source": [
        "**Q.6  Explain the concept of inheritance in OOP ?**\n",
        "\n",
        "ans = Inheritance is inherite the properties from one class to another class.There are several types of inheritance\n",
        "\n",
        "1.Single inheritance\n",
        "2.Multiple inheritance\n",
        "3.Multilevel Inheritance\n",
        "4.Hybrid inheritance"
      ],
      "metadata": {
        "id": "gBO8smIiNiY_"
      }
    },
    {
      "cell_type": "code",
      "source": [
        "class Animal:\n",
        "    def eat(self):\n",
        "        print(\"Eating...\")\n",
        "\n",
        "class Dog(Animal):\n",
        "    pass"
      ],
      "metadata": {
        "id": "YmS9hqNYOMY_"
      },
      "execution_count": 15,
      "outputs": []
    },
    {
      "cell_type": "code",
      "source": [
        "animal_eat = Animal()\n",
        "animal_eat.eat()"
      ],
      "metadata": {
        "colab": {
          "base_uri": "https://localhost:8080/"
        },
        "id": "28kr71KCOV3z",
        "outputId": "8f1cf9ab-32fd-45c7-f90e-beace54e3ed6"
      },
      "execution_count": 18,
      "outputs": [
        {
          "output_type": "stream",
          "name": "stdout",
          "text": [
            "Eating...\n"
          ]
        }
      ]
    },
    {
      "cell_type": "code",
      "source": [
        "animal2 = Dog()\n",
        "animal2.eat()"
      ],
      "metadata": {
        "colab": {
          "base_uri": "https://localhost:8080/"
        },
        "id": "h6RFDjZIOpHn",
        "outputId": "b48f34fe-243b-4340-be66-dfff321c41aa"
      },
      "execution_count": 20,
      "outputs": [
        {
          "output_type": "stream",
          "name": "stdout",
          "text": [
            "Eating...\n"
          ]
        }
      ]
    },
    {
      "cell_type": "markdown",
      "source": [
        "**Q.7 What is polymorphism in OOP ?**\n",
        "\n",
        "ans = Polymorphism Objects of different classes responding to the same method name."
      ],
      "metadata": {
        "id": "-Uwjp5a6OygT"
      }
    },
    {
      "cell_type": "code",
      "source": [
        "class Cat:\n",
        "    def sound(self):\n",
        "        print(\"Meow\")\n",
        "\n",
        "class Duck:\n",
        "    def sound(self):\n",
        "        print(\"Quack\")\n",
        "\n",
        "def make_sound(animal):\n",
        "    animal.sound()"
      ],
      "metadata": {
        "id": "tLxGh0NlPUAZ"
      },
      "execution_count": 21,
      "outputs": []
    },
    {
      "cell_type": "code",
      "source": [
        "animal_sound = Duck()\n",
        "animal_sound.sound()"
      ],
      "metadata": {
        "colab": {
          "base_uri": "https://localhost:8080/"
        },
        "id": "T4DUGnQ3Petk",
        "outputId": "c13536ba-027b-4987-a92d-0fd576cf09f8"
      },
      "execution_count": 22,
      "outputs": [
        {
          "output_type": "stream",
          "name": "stdout",
          "text": [
            "Quack\n"
          ]
        }
      ]
    },
    {
      "cell_type": "markdown",
      "source": [
        "**Q.8 How is encapsulation achieved in Python ?**\n",
        "\n",
        "ans = Using private variable we can restrict the access."
      ],
      "metadata": {
        "id": "atdmRmWIPsBU"
      }
    },
    {
      "cell_type": "code",
      "source": [
        "class BankAccount:\n",
        "    def __init__(self):\n",
        "        self.__balance = 10000\n",
        "\n",
        "    def access_balance(self):\n",
        "         return self.__balance"
      ],
      "metadata": {
        "id": "JH2-31oPP-uX"
      },
      "execution_count": 28,
      "outputs": []
    },
    {
      "cell_type": "code",
      "source": [
        "money = BankAccount()\n",
        "money.access_balance()\n"
      ],
      "metadata": {
        "colab": {
          "base_uri": "https://localhost:8080/"
        },
        "id": "CDIfnriMQCza",
        "outputId": "adcc62e8-670f-4179-f724-f979c62ff781"
      },
      "execution_count": 29,
      "outputs": [
        {
          "output_type": "execute_result",
          "data": {
            "text/plain": [
              "10000"
            ]
          },
          "metadata": {},
          "execution_count": 29
        }
      ]
    },
    {
      "cell_type": "markdown",
      "source": [
        "**Q.9 What is a constructor in Python ?**\n",
        "\n",
        "ans = Constructor is __init__ method, called when an object is created."
      ],
      "metadata": {
        "id": "nI4XkTOqQi9s"
      }
    },
    {
      "cell_type": "code",
      "source": [
        "class Person:\n",
        "    def __init__(self, name):\n",
        "        self.name = name\n",
        ""
      ],
      "metadata": {
        "id": "8BVfIxAjQ2Me"
      },
      "execution_count": 30,
      "outputs": []
    },
    {
      "cell_type": "code",
      "source": [
        "man = Person(\"Muskan Ghosle\")\n",
        "print(man.name)"
      ],
      "metadata": {
        "colab": {
          "base_uri": "https://localhost:8080/"
        },
        "id": "ankx_-TKQ7j2",
        "outputId": "02564259-5d8c-486b-d0e8-1faf373d373f"
      },
      "execution_count": 31,
      "outputs": [
        {
          "output_type": "stream",
          "name": "stdout",
          "text": [
            "Muskan Ghosle\n"
          ]
        }
      ]
    },
    {
      "cell_type": "markdown",
      "source": [
        "**Q.10 What are class and static methods in Python ?**\n",
        "\n",
        "ans= - **Definition**:  \n",
        "  - `@classmethod`: Binds to the class (first arg `cls`).  \n",
        "  - `@staticmethod`: No implicit args, behaves like a regular function.  \n"
      ],
      "metadata": {
        "id": "zljfRrWjRGs-"
      }
    },
    {
      "cell_type": "code",
      "source": [
        "class Math:\n",
        "      @staticmethod\n",
        "      def add(a, b):\n",
        "          return a + b"
      ],
      "metadata": {
        "id": "sizNWMXhReNm"
      },
      "execution_count": 33,
      "outputs": []
    },
    {
      "cell_type": "markdown",
      "source": [
        "**Q.11 What is method overloading in Python ?**\n",
        "\n",
        "ans = Python doesn’t support it directly, but defaults or `*args` can be used."
      ],
      "metadata": {
        "id": "ZD14nVYQRib8"
      }
    },
    {
      "cell_type": "code",
      "source": [
        "class Calc:\n",
        "      def add(self, a, b, c=0):\n",
        "          return a + b + c"
      ],
      "metadata": {
        "id": "rBrvV0cLRz95"
      },
      "execution_count": 37,
      "outputs": []
    },
    {
      "cell_type": "markdown",
      "source": [
        "**Q.12 What is method overriding in OOP?**\n",
        "\n",
        "ans = Redefinig the parent class into child class"
      ],
      "metadata": {
        "id": "72c-FiHQVlUt"
      }
    },
    {
      "cell_type": "code",
      "source": [
        "class Parent:\n",
        "      def greet(self):\n",
        "          print(\"Hello\")\n",
        "\n",
        "class Child(Parent):\n",
        "      def greet(self):\n",
        "          print(\"Hi\")"
      ],
      "metadata": {
        "id": "cx7EFsevWOP3"
      },
      "execution_count": null,
      "outputs": []
    },
    {
      "cell_type": "markdown",
      "source": [
        "**Q.13 What is a property decorator in Python?**\n",
        "\n",
        "ans = `@property` lets a method be accessed like an attribute"
      ],
      "metadata": {
        "id": "1zdm7B9rWVU4"
      }
    },
    {
      "cell_type": "code",
      "source": [
        "class Circle:\n",
        "    def __init__(self, radius):\n",
        "        self.radius = radius\n",
        "\n",
        "    @property\n",
        "    def area(self):\n",
        "        return 3.14 * self.radius ** 2"
      ],
      "metadata": {
        "id": "8P1xeRIwWhSg"
      },
      "execution_count": 43,
      "outputs": []
    },
    {
      "cell_type": "code",
      "source": [
        "c1 = Circle(5) # Create a Circle object with a radius\n",
        "print(c1.area) # Access the area property"
      ],
      "metadata": {
        "colab": {
          "base_uri": "https://localhost:8080/"
        },
        "id": "lPb4A77HWvUT",
        "outputId": "92acdac5-5f9d-4115-d04e-15098953a7b2"
      },
      "execution_count": 44,
      "outputs": [
        {
          "output_type": "stream",
          "name": "stdout",
          "text": [
            "78.5\n"
          ]
        }
      ]
    },
    {
      "cell_type": "markdown",
      "source": [
        "**Q.14 Why is polymorphism important in OOP**\n",
        "\n",
        "ans = Enables flexible, reusable code by allowing interchangeable objects"
      ],
      "metadata": {
        "id": "KXiTw7yiWq8z"
      }
    },
    {
      "cell_type": "markdown",
      "source": [
        "**Q.15 What is an abstract class in Python**\n",
        "\n",
        "ans = A class with abstract methods (using `ABC` module) that must be overridden.  "
      ],
      "metadata": {
        "id": "YTK1U7VmXTA3"
      }
    },
    {
      "cell_type": "code",
      "source": [
        "from abc import ABC, abstractmethod\n",
        "class Shape(ABC):\n",
        "      @abstractmethod\n",
        "      def area(self):\n",
        "          pass"
      ],
      "metadata": {
        "id": "YdiElfQzXk1F"
      },
      "execution_count": 45,
      "outputs": []
    },
    {
      "cell_type": "code",
      "source": [
        "from abc import ABC, abstractmethod\n",
        "\n",
        "class Shape(ABC):\n",
        "    @abstractmethod\n",
        "    def area(self):\n",
        "        pass"
      ],
      "metadata": {
        "id": "zRXuLk5lXvfH"
      },
      "execution_count": 48,
      "outputs": []
    },
    {
      "cell_type": "markdown",
      "source": [
        "**Q.16 What are the advantages of OOP**\n",
        "\n",
        "ans = Modularity, reusability, scalability, and easier maintenance."
      ],
      "metadata": {
        "id": "HRuMe6yFX8rB"
      }
    },
    {
      "cell_type": "markdown",
      "source": [
        "**Q.17 What is the difference between a class variable and an instance variable**\n",
        "\n",
        "ans = - **Definition**:  \n",
        "  - **Class variable**: Shared across all instances.  \n",
        "  - **Instance variable**: Unique to each instance.  "
      ],
      "metadata": {
        "id": "TIHrYzeuYKpa"
      }
    },
    {
      "cell_type": "code",
      "source": [
        "class Dog:\n",
        "      species = \"Canine\"  # Class variable\n",
        "      def __init__(self, name):\n",
        "          self.name = name  # Instance variable"
      ],
      "metadata": {
        "id": "WBUqFMblYqgv"
      },
      "execution_count": 49,
      "outputs": []
    },
    {
      "cell_type": "markdown",
      "source": [
        "**Q.18 What is multiple inheritance in Python ?**\n",
        "\n",
        "ans = A class inheriting from multiple parent classes"
      ],
      "metadata": {
        "id": "29tUCG4IY1dN"
      }
    },
    {
      "cell_type": "code",
      "source": [
        "class A:\n",
        "      pass\n",
        "class B:\n",
        "      pass\n",
        "class C(A, B):\n",
        "      pass"
      ],
      "metadata": {
        "id": "rKewvzH9ZCp-"
      },
      "execution_count": 50,
      "outputs": []
    },
    {
      "cell_type": "markdown",
      "source": [
        "**Q.19  Explain the purpose of ‘’__str__’ and ‘__repr__’ ‘ methods in Python**\n",
        "\n",
        "ans = - **Definition**:  \n",
        "  - `__str__`: User-friendly string representation.  \n",
        "  - `__repr__`: Developer-friendly, often used for debugging."
      ],
      "metadata": {
        "id": "zUS5vz6PZKjl"
      }
    },
    {
      "cell_type": "code",
      "source": [
        "class Point:\n",
        "      def __repr__(self):\n",
        "          return \"Point()\""
      ],
      "metadata": {
        "id": "FkXHqH-0ZeBn"
      },
      "execution_count": 51,
      "outputs": []
    },
    {
      "cell_type": "markdown",
      "source": [
        "**Q.20 What is the significance of the ‘super()’ function in Python**\n",
        "\n",
        "ans = Super() method calls the parent class's method"
      ],
      "metadata": {
        "id": "3EHcIx8NZjKu"
      }
    },
    {
      "cell_type": "code",
      "source": [
        "class Child(Parent):\n",
        "      def __init__(self):\n",
        "          super().__init__()"
      ],
      "metadata": {
        "id": "GmrunTFnZ4qC"
      },
      "execution_count": 52,
      "outputs": []
    },
    {
      "cell_type": "markdown",
      "source": [
        "**Q.21 What is the significance of the __del__ method in Python**\n",
        "\n",
        "ans = Called when an object is about to be destroyed."
      ],
      "metadata": {
        "id": "s9fZ6gxvZ_12"
      }
    },
    {
      "cell_type": "code",
      "source": [
        "class Temp:\n",
        "      def __del__(self):\n",
        "          print(\"Object deleted\")"
      ],
      "metadata": {
        "id": "IHI33ludaVa6"
      },
      "execution_count": 53,
      "outputs": []
    },
    {
      "cell_type": "markdown",
      "source": [
        "**Q.22 What is the difference between @staticmethod and @classmethod in Python**\n",
        "\n",
        "ans =  **Definition**:  \n",
        "  - `@staticmethod`: No access to class/instance.  \n",
        "  - `@classmethod`: Takes `cls` as first arg.  "
      ],
      "metadata": {
        "id": "uSUeVvS9aa0K"
      }
    },
    {
      "cell_type": "code",
      "source": [
        "class MyClass:\n",
        "      @classmethod\n",
        "      def from_string(cls, string):\n",
        "          return cls(string)"
      ],
      "metadata": {
        "id": "XVNQBSTPatG1"
      },
      "execution_count": 54,
      "outputs": []
    },
    {
      "cell_type": "markdown",
      "source": [
        "**Q.23 How does polymorphism work in Python with inheritance**\n",
        "\n",
        "ans = child classes override parent methods for different behaviors."
      ],
      "metadata": {
        "id": "CD3QioJmaxQb"
      }
    },
    {
      "cell_type": "code",
      "source": [
        "class Bird:\n",
        "      def fly(self):\n",
        "          print(\"Flying\")\n",
        "\n",
        "class Penguin(Bird):\n",
        "      def fly(self):\n",
        "          print(\"Can’t fly\")"
      ],
      "metadata": {
        "id": "whDo6uB2a_FF"
      },
      "execution_count": null,
      "outputs": []
    },
    {
      "cell_type": "markdown",
      "source": [
        "**Q.24 What is method chaining in Python OOP?**\n",
        "\n",
        "ans = Calling multiple methods sequentially on the same object"
      ],
      "metadata": {
        "id": "lewK3PNkbJhH"
      }
    },
    {
      "cell_type": "markdown",
      "source": [
        "**Q.25  What is the purpose of the __call__ method in Python**\n",
        "\n",
        "ans = It calls the object as a function"
      ],
      "metadata": {
        "id": "PUMAMDbBbW3I"
      }
    },
    {
      "cell_type": "code",
      "source": [
        "class Adder:\n",
        "      def __call__(self, a, b):\n",
        "          return a + b\n",
        "add = Adder()\n",
        "add(2, 3)"
      ],
      "metadata": {
        "colab": {
          "base_uri": "https://localhost:8080/"
        },
        "id": "ph7mpKRcbnGt",
        "outputId": "1902231e-2c2f-497c-e032-0a672c489bf1"
      },
      "execution_count": 55,
      "outputs": [
        {
          "output_type": "execute_result",
          "data": {
            "text/plain": [
              "5"
            ]
          },
          "metadata": {},
          "execution_count": 55
        }
      ]
    }
  ]
}